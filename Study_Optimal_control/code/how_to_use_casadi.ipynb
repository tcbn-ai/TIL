{
    "cells": [
        {
            "cell_type": "markdown",
            "source": [
                "# CasADiの使い方\n",
                "## はじめに\n",
                "最適制御問題を数値的に解くためのツールとして，CasADiを用いる．使い方を勉強する．\n",
                "### 参考\n",
                "- [CasADi's documentation](https://web.casadi.org/docs/)\n",
                "- [CasADi's GitHub Repository](https://github.com/casadi/casadi)\n",
                "\n",
                "### Remark\n",
                "`.gitignore`に`reference/`を追加．\n",
                "\n",
                "```\n",
                "|- reference/\n",
                "    |- optimal_control/\n",
                "        |- numopt_0.pdf\n",
                "        |- casadi-example_pack-v3.4.4/\n",
                "```\n",
                "\n",
                "- `numopt_0.pdf`: [lecture notes on numerical optimal control](https://www.syscop.de/files/2015ws/numopt/numopt_0.pdf)\n",
                "- `casadi-example_pack-v3.4.4/`: CasADi's documentation, See also: Example pack\n",
                "\n",
                "### Install\n",
                "```bash\n",
                "pip install casadi\n",
                "```"
            ],
            "metadata": {}
        },
        {
            "cell_type": "markdown",
            "source": [
                "## Documentについて\n",
                "以下，ドキュメントを見てコードの書き方を勉強する．\n",
                "### 1. Introduction\n",
                "- CasADiは，gradient-basedの数値最適化 (特に最適制御に重点をおいている) のためのツール．\n",
                "- ユーザに最適制御問題を入力させ，その解を返すわけではなく，最適制御問題のソルバーを少しのプログラミング作業で効率的に実装するために使用できる \"building block\" を提供するもの．"
            ],
            "metadata": {}
        },
        {
            "cell_type": "markdown",
            "source": [
                "### 2. Obtaining and installing\n",
                "- open-source tool\n",
                "- C++で書かれている．front-endにはPythonもある．"
            ],
            "metadata": {}
        },
        {
            "cell_type": "markdown",
            "source": [
                "### 3. Symbolic framework\n",
                "- CasADiのcoreは， \"self-contained symbolic framework\" であること．\n",
                "- MATLABのような \"everything-is-a-matrix\" 構文で記号式を構築できる．\n",
                "- vectors: n-by-1 matrices, scalars: 1-by-1 matrices\n",
                "\n",
                "#### 3.1. The `sx` symbols"
            ],
            "metadata": {}
        },
        {
            "cell_type": "code",
            "execution_count": 1,
            "source": [
                "###### Packages ######\n",
                "from casadi import * \n",
                "######################"
            ],
            "outputs": [],
            "metadata": {}
        },
        {
            "cell_type": "markdown",
            "source": [
                "変数`x`を定義する．"
            ],
            "metadata": {}
        },
        {
            "cell_type": "code",
            "execution_count": 2,
            "source": [
                "x = SX.sym(\"x\")\n",
                "print(x)"
            ],
            "outputs": [
                {
                    "output_type": "stream",
                    "name": "stdout",
                    "text": [
                        "x\n"
                    ]
                }
            ],
            "metadata": {}
        },
        {
            "cell_type": "markdown",
            "source": [
                "上記のコードで定義した`x`は，1-by-1 matrix (scalar) である．\"x\"は，表示名であり，識別子ではない．\n",
                "\n",
                "`SX.sym`に追加の引数を指定してvector-valued, matrix-valuedの変数を定義できる．"
            ],
            "metadata": {}
        },
        {
            "cell_type": "code",
            "execution_count": 3,
            "source": [
                "y = SX.sym('y', 5)\n",
                "z = SX.sym('Z', 4, 2)\n",
                "print(y)\n",
                "print(z)"
            ],
            "outputs": [
                {
                    "output_type": "stream",
                    "name": "stdout",
                    "text": [
                        "[y_0, y_1, y_2, y_3, y_4]\n",
                        "\n",
                        "[[Z_0, Z_4], \n",
                        " [Z_1, Z_5], \n",
                        " [Z_2, Z_6], \n",
                        " [Z_3, Z_7]]\n"
                    ]
                }
            ],
            "metadata": {}
        },
        {
            "cell_type": "markdown",
            "source": [
                "Remark\n",
                "- `SX.sym`は，`SX`インスタンスを返す (静的な) 関数である．\n",
                "- 変数が宣言されると，式を直感的な方法で形成できる．"
            ],
            "metadata": {}
        },
        {
            "cell_type": "code",
            "execution_count": 4,
            "source": [
                "f = x**2 + 10 \n",
                "f = sqrt(f)\n",
                "print(f)"
            ],
            "outputs": [
                {
                    "output_type": "stream",
                    "name": "stdout",
                    "text": [
                        "sqrt((sq(x)+10))\n"
                    ]
                }
            ],
            "metadata": {}
        },
        {
            "cell_type": "markdown",
            "source": [
                "symbolic primitivesがなくても`SX`インスタンスを定義できる．\n",
                "\n",
                "- `B1 = SX.zeros(4, 5)`: すべての要素がzerosのdense 4-by-5 empty matrix\n",
                "- `B2 = SX(4, 5)`: すべての要素がzerosのsparse 4-by-5 empty matrix\n",
                "- `B4 = SX.eye(4)`: 4-by-4の単位行列"
            ],
            "metadata": {}
        },
        {
            "cell_type": "code",
            "execution_count": 5,
            "source": [
                "B1 = SX.zeros(4, 5)\n",
                "B2 = SX(4, 5)\n",
                "B4 = SX.eye(4)\n",
                "\n",
                "print(B1)\n",
                "print(B2)\n",
                "print(B4)"
            ],
            "outputs": [
                {
                    "output_type": "stream",
                    "name": "stdout",
                    "text": [
                        "@1=0, \n",
                        "[[@1, @1, @1, @1, @1], \n",
                        " [@1, @1, @1, @1, @1], \n",
                        " [@1, @1, @1, @1, @1], \n",
                        " [@1, @1, @1, @1, @1]]\n",
                        "\n",
                        "[[00, 00, 00, 00, 00], \n",
                        " [00, 00, 00, 00, 00], \n",
                        " [00, 00, 00, 00, 00], \n",
                        " [00, 00, 00, 00, 00]]\n",
                        "@1=1, \n",
                        "[[@1, 00, 00, 00], \n",
                        " [00, @1, 00, 00], \n",
                        " [00, 00, @1, 00], \n",
                        " [00, 00, 00, @1]]\n"
                    ]
                }
            ],
            "metadata": {}
        },
        {
            "cell_type": "markdown",
            "source": [
                "Note\n",
                "\n",
                "- sparse matrixとdense matrixの違いは，structural zerosとactual zeros．\n",
                "- `00`: structural zero\n",
                "- `0`: actual zero\n",
                "\n",
                "`SX`の表現を以下にまとめる．\n",
                "\n",
                "- `SX.sym(name, n, m)`: n-by-mのsymbolic primitiveを定義する．\n",
                "- `SX.zeros(n, m)`: すべての要素がzerosのn-by-m dense matrixを定義する．\n",
                "- `SX(n, m)`: すべての要素がstructual zerosのn-by-m sparse matrixを定義する．\n",
                "- `SX.ones(n, m)`: すべての要素が1のn-by-m dense matrixを定義する．\n",
                "- `SX.eye(n)`: 対角成分が1で，その他の成分がstructural zerosのn-by-n対角行列を定義する．\n",
                "- `SX(scalar_type)`: argumentで与えられた値を持つscalar (1-by-1 matrix) を定義する．\n",
                "- `SX(matrix_type)`: NumpyやScipyのmatrixで与えられたnumerical matrixを定義する．\n",
                "- `repmat(v, n, m)`: vを縦にn回，横にm回繰り返した表現 (e.g. `repmat(SX(3), 2, 1)`: すべての要素が3の2-by-1 matrix)．\n",
                "- (Python only) `SX(list)`: list内の要素を成分とする縦ベクトル (n-by-1 matrix) を定義する (e.g. `SX([1, 2, 3, 4])`)．\n",
                "- (Python only) `SX(list of list)`: list内の要素を成分とするdense matrixを定義する (e.g. `SX([[1, 2], [3, 4]])`)．"
            ],
            "metadata": {}
        },
        {
            "cell_type": "markdown",
            "source": [
                "#### 3.2. DM\n",
                "- `SX`と似ているが，nonzero elementsが数値であり，symbolic expressioinsではないという点で`SX`と異なる．構文はほぼ同じ．\n",
                "- `DM`は主に，CasADiに行列を格納するため，また，関数の入出力として使われる．"
            ],
            "metadata": {}
        },
        {
            "cell_type": "code",
            "execution_count": 6,
            "source": [
                "C = DM(2, 3)\n",
                "print(C)\n",
                "\n",
                "C_dense = C.full()\n",
                "print(C_dense)\n",
                "from numpy import array \n",
                "C_dense = array(C)  # equivalent \n",
                "print(C_dense)\n",
                "\n",
                "C_sparse = C.sparse()\n",
                "print(C_sparse)\n",
                "from scipy.sparse import csc_matrix \n",
                "C_sparse = csc_matrix(C)    # equivalent\n",
                "print(C_sparse)"
            ],
            "outputs": [
                {
                    "output_type": "stream",
                    "name": "stdout",
                    "text": [
                        "\n",
                        "[[00, 00, 00], \n",
                        " [00, 00, 00]]\n",
                        "[[0. 0. 0.]\n",
                        " [0. 0. 0.]]\n",
                        "[[0. 0. 0.]\n",
                        " [0. 0. 0.]]\n",
                        "\n",
                        "\n"
                    ]
                }
            ],
            "metadata": {}
        },
        {
            "cell_type": "markdown",
            "source": [
                "#### 3.3. The `MX` symbolics\n",
                "以下の`SX`の演算を考える．"
            ],
            "metadata": {}
        },
        {
            "cell_type": "code",
            "execution_count": 7,
            "source": [
                "x = SX.sym('x', 2, 2)\n",
                "y = SX.sym('y')\n",
                "f = 3*x + y \n",
                "print(f)\n",
                "print(f.shape)"
            ],
            "outputs": [
                {
                    "output_type": "stream",
                    "name": "stdout",
                    "text": [
                        "@1=3, \n",
                        "[[((@1*x_0)+y), ((@1*x_2)+y)], \n",
                        " [((@1*x_1)+y), ((@1*x_3)+y)]]\n",
                        "(2, 2)\n"
                    ]
                }
            ],
            "metadata": {}
        },
        {
            "cell_type": "markdown",
            "source": [
                "上記の操作の出力は2-by-2の行列となっている．乗算と加算が要素ごとに実行され，結果行列のeach entryに対してSX型の新しい式が作成された．\n",
                "\n",
                "より一般的なmatrix expression typeの`MX`を導入する．`MX`の基本演算はスカラーの単項演算 ($$\\mathbb{R} \\to \\mathbb{R}$$) や二項演算 ($$\\mathbb{R} \\times \\mathbb{R} \\to \\mathbb{R}$$) に制限されていない．\n",
                "\n",
                "`MX`では，一般的な複数のsparse-matrix入力で複数のsparse-matrix出力の関数の操作ができる ($$\\mathbb{R}^{n_1 \\times m_1} \\times \\cdots \\times \\mathbb{R}^{n_N \\times m_N} \\to \\mathbb{R}^{p_1 \\times q_1} \\times \\cdots \\times \\mathbb{R}^{p_M \\times q_M}$$)．\n",
                "\n",
                "上記の`SX`の演算を`MX`で書く．"
            ],
            "metadata": {}
        },
        {
            "cell_type": "code",
            "execution_count": 8,
            "source": [
                "x = MX.sym('x', 2, 2)\n",
                "y = MX.sym('y')\n",
                "f = 3*x + y \n",
                "print(f)\n",
                "print(f.shape)"
            ],
            "outputs": [
                {
                    "output_type": "stream",
                    "name": "stdout",
                    "text": [
                        "((3*x)+y)\n",
                        "(2, 2)\n"
                    ]
                }
            ],
            "metadata": {}
        },
        {
            "cell_type": "markdown",
            "source": [
                "`MX`でも`SX`と同様に，要素を取得すること，セットすることができる．"
            ],
            "metadata": {}
        },
        {
            "cell_type": "code",
            "execution_count": 9,
            "source": [
                "x = MX.sym('x', 2, 2)\n",
                "print(x[0, 0])"
            ],
            "outputs": [
                {
                    "output_type": "stream",
                    "name": "stdout",
                    "text": [
                        "x[0]\n"
                    ]
                }
            ],
            "metadata": {}
        },
        {
            "cell_type": "markdown",
            "source": [
                "出力は，xの最初のstructurally non-zeroの要素に等しい式 (index 0 (最初の) matrixの位置)"
            ],
            "metadata": {}
        },
        {
            "cell_type": "code",
            "execution_count": 10,
            "source": [
                "x = MX.sym('x', 2)\n",
                "A = MX(2, 2)\n",
                "A[0,0] = x[0]\n",
                "A[1,1] = x[0] + x[1]\n",
                "print('A:', A)"
            ],
            "outputs": [
                {
                    "output_type": "stream",
                    "name": "stdout",
                    "text": [
                        "A: (project((zeros(2x2,1nz)[0] = x[0]))[1] = (x[0]+x[1]))\n"
                    ]
                }
            ],
            "metadata": {}
        },
        {
            "cell_type": "markdown",
            "source": [
                "#### 3.4. Mixing `SX` and `MX`\n",
                "- `SX`オブジェクトと`MX`オブジェクトに対する乗算操作や，同じexpression graphで2つのオブジェクトを混合することはできない．\n",
                "- `MX` graphには，`SX` expressionsで定義された関数への呼び出しを含めることができる．\n",
                "- `SX` expressionsは低レベルの操作で使用することを目的としている．\n",
                "- `MX` expressionsはNLPの制約関数などの作成に使用できる．"
            ],
            "metadata": {}
        },
        {
            "cell_type": "markdown",
            "source": [
                "#### 3.5. The `Sparsity` class\n",
                "CasADiでは，matricesをcompressed column storage (CCS) formatに格納できる．CCS formatは，sparse matricesのstandard format．線形代数の演算を可能にする．\n",
                "\n",
                "CCS formatでは，sparsity patternはdimensions (rowsとcolumnsの数) と2つのベクトルを使ってdecodeされる．\n",
                "\n",
                "CasADiのSparsity patternは，Sparsity classのインスタンスとして格納される．\n",
                "\n",
                "Sparsity patternsを構築する方法\n",
                "\n",
                "- `Sparsity.dense(n, m)`: n-by-mのdenseなsparsity patternを定義\n",
                "- `Sparsity(n, m)`: n-by-mのsparseなsparsity patternを定義\n",
                "- `Sparsity.diag(n)`: n-by-nのdiagonalなsparsity patternを定義\n",
                "- `Sparsity.upper(n)`: n-by-nの上三角のsparsity patternを定義\n",
                "- `Sparsity.lower(n)`: n-by-nの下三角のsparsity patternを定義"
            ],
            "metadata": {}
        },
        {
            "cell_type": "code",
            "execution_count": 11,
            "source": [
                "print(SX.sym('x', Sparsity.lower(3)))"
            ],
            "outputs": [
                {
                    "output_type": "stream",
                    "name": "stdout",
                    "text": [
                        "\n",
                        "[[x_0, 00, 00], \n",
                        " [x_1, x_3, 00], \n",
                        " [x_2, x_4, x_5]]\n"
                    ]
                }
            ],
            "metadata": {}
        },
        {
            "cell_type": "markdown",
            "source": [
                "##### 3.5.1. Getting and setting elements in matrices\n",
                "CasADiのmatrix typeの要素の集合を得るために，`[]`を使う．\n",
                "\n",
                "Indexingは1つまたは2つのindexを指定することで実現．"
            ],
            "metadata": {}
        },
        {
            "cell_type": "code",
            "execution_count": 12,
            "source": [
                "M = SX([[3, 7], [4, 5]])\n",
                "print(M[0, :])\n",
                "M[0, :] = 1\n",
                "print(M)"
            ],
            "outputs": [
                {
                    "output_type": "stream",
                    "name": "stdout",
                    "text": [
                        "[[3, 7]]\n",
                        "@1=1, \n",
                        "[[@1, @1], \n",
                        " [4, 5]]\n"
                    ]
                }
            ],
            "metadata": {}
        },
        {
            "cell_type": "markdown",
            "source": [
                "PythonのNumpyと異なり，CasADiのスライスはデータをコピーする．"
            ],
            "metadata": {}
        },
        {
            "cell_type": "code",
            "execution_count": 13,
            "source": [
                "M = SX([[3, 7], [4, 5]])\n",
                "M[0, :][0, 0] = 1\n",
                "print(M)"
            ],
            "outputs": [
                {
                    "output_type": "stream",
                    "name": "stdout",
                    "text": [
                        "\n",
                        "[[3, 7], \n",
                        " [4, 5]]\n"
                    ]
                }
            ],
            "metadata": {}
        },
        {
            "cell_type": "markdown",
            "source": [
                "Slice element access\n",
                "\n",
                "- 行と列のindexを与える．"
            ],
            "metadata": {}
        },
        {
            "cell_type": "code",
            "execution_count": 14,
            "source": [
                "M = diag(SX([3, 4, 5, 6]))\n",
                "print(M)\n",
                "print(M[0, 0])\n",
                "print(M[1, 0])\n",
                "print(M[-1, -1])"
            ],
            "outputs": [
                {
                    "output_type": "stream",
                    "name": "stdout",
                    "text": [
                        "\n",
                        "[[3, 00, 00, 00], \n",
                        " [00, 4, 00, 00], \n",
                        " [00, 00, 5, 00], \n",
                        " [00, 00, 00, 6]]\n",
                        "3\n",
                        "00\n",
                        "6\n"
                    ]
                }
            ],
            "metadata": {}
        },
        {
            "cell_type": "markdown",
            "source": [
                "Slice access\n",
                "\n",
                "- 一度に複数の要素を設定する"
            ],
            "metadata": {}
        },
        {
            "cell_type": "code",
            "execution_count": 15,
            "source": [
                "print(M[:, 1])\n",
                "print(M[1:, 1:4:2])"
            ],
            "outputs": [
                {
                    "output_type": "stream",
                    "name": "stdout",
                    "text": [
                        "[00, 4, 00, 00]\n",
                        "\n",
                        "[[4, 00], \n",
                        " [00, 00], \n",
                        " [00, 6]]\n"
                    ]
                }
            ],
            "metadata": {}
        },
        {
            "cell_type": "markdown",
            "source": [
                "List access\n",
                "\n",
                "- Slice accessと類似"
            ],
            "metadata": {}
        },
        {
            "cell_type": "code",
            "execution_count": 16,
            "source": [
                "M = SX([[3, 7, 8, 9], [4, 5, 6, 1]])\n",
                "print(M)\n",
                "print(M[0, [0, 3]], M[[5, -6]])"
            ],
            "outputs": [
                {
                    "output_type": "stream",
                    "name": "stdout",
                    "text": [
                        "\n",
                        "[[3, 7, 8, 9], \n",
                        " [4, 5, 6, 1]]\n",
                        "[[3, 9]] [6, 7]\n"
                    ]
                }
            ],
            "metadata": {}
        },
        {
            "cell_type": "markdown",
            "source": [
                "#### 3.6. Arithmetric operation\n",
                "CasADiは標準的な代数演算をサポートしている\n",
                "\n",
                "- multiplications\n",
                "- powers\n",
                "- trigonometric functions"
            ],
            "metadata": {}
        },
        {
            "cell_type": "code",
            "execution_count": 17,
            "source": [
                "x = SX.sym('x')\n",
                "y = SX.sym('y', 2, 2)\n",
                "print(sin(y) - x)"
            ],
            "outputs": [
                {
                    "output_type": "stream",
                    "name": "stdout",
                    "text": [
                        "\n",
                        "[[(sin(y_0)-x), (sin(y_2)-x)], \n",
                        " [(sin(y_1)-x), (sin(y_3)-x)]]\n"
                    ]
                }
            ],
            "metadata": {}
        },
        {
            "cell_type": "markdown",
            "source": [
                "`A, B`をarray-likeとする．\n",
                "\n",
                "- `A*B`: Hadamard積\n",
                "- `A@B`: 行列としての積"
            ],
            "metadata": {}
        },
        {
            "cell_type": "code",
            "execution_count": 18,
            "source": [
                "print(y*y, y@y)"
            ],
            "outputs": [
                {
                    "output_type": "stream",
                    "name": "stdout",
                    "text": [
                        "\n",
                        "[[sq(y_0), sq(y_2)], \n",
                        " [sq(y_1), sq(y_3)]] \n",
                        "[[(sq(y_0)+(y_2*y_1)), ((y_0*y_2)+(y_2*y_3))], \n",
                        " [((y_1*y_0)+(y_3*y_1)), ((y_1*y_2)+sq(y_3))]]\n"
                    ]
                }
            ],
            "metadata": {}
        },
        {
            "cell_type": "markdown",
            "source": [
                "- `A.T`: 転置"
            ],
            "metadata": {}
        },
        {
            "cell_type": "code",
            "execution_count": 19,
            "source": [
                "print(y)\n",
                "print(y.T)"
            ],
            "outputs": [
                {
                    "output_type": "stream",
                    "name": "stdout",
                    "text": [
                        "\n",
                        "[[y_0, y_2], \n",
                        " [y_1, y_3]]\n",
                        "\n",
                        "[[y_0, y_1], \n",
                        " [y_2, y_3]]\n"
                    ]
                }
            ],
            "metadata": {}
        },
        {
            "cell_type": "markdown",
            "source": [
                "Reshaping\n",
                "\n",
                "- 行と列の個数を変える"
            ],
            "metadata": {}
        },
        {
            "cell_type": "code",
            "execution_count": 20,
            "source": [
                "x = SX.eye(4)\n",
                "print(reshape(x, 2, 8))"
            ],
            "outputs": [
                {
                    "output_type": "stream",
                    "name": "stdout",
                    "text": [
                        "@1=1, \n",
                        "[[@1, 00, 00, 00, 00, @1, 00, 00], \n",
                        " [00, 00, @1, 00, 00, 00, 00, @1]]\n"
                    ]
                }
            ],
            "metadata": {}
        },
        {
            "cell_type": "markdown",
            "source": [
                "Concatenation\n",
                "\n",
                "stacking matrices horizontally or vertically\n",
                "\n",
                "- vertcat: vertical concatenation\n",
                "- horzcat: horizontal concatenation"
            ],
            "metadata": {}
        },
        {
            "cell_type": "code",
            "execution_count": 21,
            "source": [
                "x = SX.sym('x', 5)\n",
                "y = SX.sym('y', 5)\n",
                "print(vertcat(x, y))\n",
                "print(horzcat(x, y))"
            ],
            "outputs": [
                {
                    "output_type": "stream",
                    "name": "stdout",
                    "text": [
                        "[x_0, x_1, x_2, x_3, x_4, y_0, y_1, y_2, y_3, y_4]\n",
                        "\n",
                        "[[x_0, y_0], \n",
                        " [x_1, y_1], \n",
                        " [x_2, y_2], \n",
                        " [x_3, y_3], \n",
                        " [x_4, y_4]]\n"
                    ]
                }
            ],
            "metadata": {}
        },
        {
            "cell_type": "markdown",
            "source": [
                "listを引数にできる．"
            ],
            "metadata": {}
        },
        {
            "cell_type": "code",
            "execution_count": 22,
            "source": [
                "L = [x, y]\n",
                "print(hcat(L))"
            ],
            "outputs": [
                {
                    "output_type": "stream",
                    "name": "stdout",
                    "text": [
                        "\n",
                        "[[x_0, y_0], \n",
                        " [x_1, y_1], \n",
                        " [x_2, y_2], \n",
                        " [x_3, y_3], \n",
                        " [x_4, y_4]]\n"
                    ]
                }
            ],
            "metadata": {}
        },
        {
            "cell_type": "markdown",
            "source": [
                "Horizontal and vertical split\n",
                "\n",
                "concatenationと逆の操作．offsetを用意する必要がある．\n",
                "\n",
                "horizontalのとき\n",
                "\n",
                "- offsetの最初の要素は0．\n",
                "- 最後の要素は列の数．\n",
                "- `[0, 分割時の前半要素の個数, 列の数]`"
            ],
            "metadata": {}
        },
        {
            "cell_type": "code",
            "execution_count": 23,
            "source": [
                "x = SX.sym('x', 5, 2)\n",
                "w = horzsplit(x, [0, 1, 2])\n",
                "print(x)\n",
                "print(w[0], w[1])"
            ],
            "outputs": [
                {
                    "output_type": "stream",
                    "name": "stdout",
                    "text": [
                        "\n",
                        "[[x_0, x_5], \n",
                        " [x_1, x_6], \n",
                        " [x_2, x_7], \n",
                        " [x_3, x_8], \n",
                        " [x_4, x_9]]\n",
                        "[x_0, x_1, x_2, x_3, x_4] [x_5, x_6, x_7, x_8, x_9]\n"
                    ]
                }
            ],
            "metadata": {}
        },
        {
            "cell_type": "markdown",
            "source": [
                "verticalのとき，offset vectorはrowsを参照する．"
            ],
            "metadata": {}
        },
        {
            "cell_type": "code",
            "execution_count": 24,
            "source": [
                "w = vertsplit(x, [0, 3, 5])\n",
                "print(w[0], w[1])"
            ],
            "outputs": [
                {
                    "output_type": "stream",
                    "name": "stdout",
                    "text": [
                        "\n",
                        "[[x_0, x_5], \n",
                        " [x_1, x_6], \n",
                        " [x_2, x_7]] \n",
                        "[[x_3, x_8], \n",
                        " [x_4, x_9]]\n"
                    ]
                }
            ],
            "metadata": {}
        },
        {
            "cell_type": "markdown",
            "source": [
                "horizontal and vertical splitは，slice accessで代用できる．"
            ],
            "metadata": {}
        },
        {
            "cell_type": "code",
            "execution_count": 25,
            "source": [
                "w = [x[0:3, :], x[3:5, :]]\n",
                "print(w[0], w[1])"
            ],
            "outputs": [
                {
                    "output_type": "stream",
                    "name": "stdout",
                    "text": [
                        "\n",
                        "[[x_0, x_5], \n",
                        " [x_1, x_6], \n",
                        " [x_2, x_7]] \n",
                        "[[x_3, x_8], \n",
                        " [x_4, x_9]]\n"
                    ]
                }
            ],
            "metadata": {}
        },
        {
            "cell_type": "markdown",
            "source": [
                "`SX`ではこの代用は完全に等価であるが，`MX`ではhorzsplitやvertsplitがより効率的である．"
            ],
            "metadata": {}
        },
        {
            "cell_type": "markdown",
            "source": [
                "Inner product\n",
                "\n",
                "$$\\langle A, B \\rangle := \\sum_{i, j} A_{i,j}B_{i,j}$$"
            ],
            "metadata": {}
        },
        {
            "cell_type": "code",
            "execution_count": 26,
            "source": [
                "x = SX.sym('x', 2, 2)\n",
                "print(dot(x, x))"
            ],
            "outputs": [
                {
                    "output_type": "stream",
                    "name": "stdout",
                    "text": [
                        "(((sq(x_0)+sq(x_1))+sq(x_2))+sq(x_3))\n"
                    ]
                }
            ],
            "metadata": {}
        },
        {
            "cell_type": "markdown",
            "source": [
                "これらの演算は`Sparsity` classでも定義されている．"
            ],
            "metadata": {}
        },
        {
            "cell_type": "markdown",
            "source": [
                "#### 3.7. Querying properties\n",
                "以下の性質を調べる関数が用意されている．\n",
                "\n",
                "`A`をmatrixとする．\n",
                "\n",
                "- `A.size1()`: 行の個数\n",
                "- `A.size2()`: 列の個数\n",
                "- `A.shape`: 行列の形, i.e., the pair (nrow, ncol)\n",
                "- `A.numel()`: 要素数, i.e., nrow*ncol\n",
                "- `A.nnz()`: structurally nonzero elementsの個数\n",
                "- `A.sparsity()`: sparsity patternへの参照の取得\n",
                "- `A.is_dense()`: matrixがdenseであるか？, i.e., structural zerosを持っていないか\n",
                "- `A.is_scalar()`: matrixがscalarであるか？, i.e., demensionsが1-by-1であるか\n",
                "- `A.is_column()`: matrixがvectorであるか？, i.e., demensionsがn-by-1であるか\n",
                "- `A.is_square()`: matrixがsquareであるか？\n",
                "- `A.is_triu()`: matrixが上三角であるか？\n",
                "- `A.is_constant()`: matrixの要素がすべてconstantであるか？\n",
                "- `A.is_integer()`: matrixの要素がすべて整数値であるか？"
            ],
            "metadata": {}
        },
        {
            "cell_type": "markdown",
            "source": [
                "#### 3.8. Linear algebra\n",
                "CasADiは，いくつかの線形代数の演算をサポートしている．\n",
                "\n",
                "(例) 線形システムの方程式の解"
            ],
            "metadata": {}
        },
        {
            "cell_type": "code",
            "execution_count": 27,
            "source": [
                "A = MX.sym('A', 3, 3)\n",
                "b = MX.sym('b', 3)\n",
                "print(solve(A, b))"
            ],
            "outputs": [
                {
                    "output_type": "stream",
                    "name": "stdout",
                    "text": [
                        "(A\\b)\n"
                    ]
                }
            ],
            "metadata": {}
        },
        {
            "cell_type": "markdown",
            "source": [
                "#### 3.9. Calculus - algorithmic differentiation\n",
                "CasADiの関数の中で最も中心的なものは，自動微分 (algorithmic / automatic differentiation) である．関数$$f: \\mathbb{R}^N \\to \\mathbb{R}^M$$:\n",
                "\n",
                "$$y = f(x)$$\n",
                "\n",
                "に対して，forward modeの方向微分は，Jacobian-times-vector productsの計算が使われる．\n",
                "\n",
                "$$\\hat{y} = \\frac{\\partial f}{\\partial x} \\hat{x}$$\n",
                "\n",
                "同様に，reverse modeの方向微分は，Jacobian-transposed-times-vector productsの計算が使われる．\n",
                "\n",
                "$$\\bar{x} = \\left(\\frac{\\partial f}{\\partial x} \\right)^{\\mathrm{T}} \\bar{y}$$\n",
                "\n",
                "forwardもreverseも $$x$$ の次元にかかわらず，$$f(x)$$を評価したときのコストで計算される．\n",
                "\n",
                "CasADiはcomplete, sparse Jacobiansを効率的に生成できる．以下のステップで構成される．\n",
                "\n",
                "- Jacobianのsparsity patternを自動的に検出する\n",
                "- complete Jacobianを構成するのに必要なforward and/or directional derivativesを見つけるためにgraph coloring techniquesを使う\n",
                "- 数値的または記号的にdirectional derivativesを計算する\n",
                "- 完全なJacobianを組み立てる\n",
                "\n",
                "Hessiansも同様に計算される．"
            ],
            "metadata": {}
        },
        {
            "cell_type": "markdown",
            "source": [
                "#### 3.9. Syntax\n",
                "Jacobianは，以下のsyntaxを用いて得られる．"
            ],
            "metadata": {}
        },
        {
            "cell_type": "code",
            "execution_count": 28,
            "source": [
                "A = SX.sym('A', 3, 2)\n",
                "x = SX.sym('x', 2)\n",
                "print(A@x)\n",
                "print(jacobian(A@x, x))"
            ],
            "outputs": [
                {
                    "output_type": "stream",
                    "name": "stdout",
                    "text": [
                        "[((A_0*x_0)+(A_3*x_1)), ((A_1*x_0)+(A_4*x_1)), ((A_2*x_0)+(A_5*x_1))]\n",
                        "\n",
                        "[[A_0, A_3], \n",
                        " [A_1, A_4], \n",
                        " [A_2, A_5]]\n"
                    ]
                }
            ],
            "metadata": {}
        },
        {
            "cell_type": "markdown",
            "source": [
                "微分式がscalarの場合，行列の意味で勾配を計算できる．"
            ],
            "metadata": {}
        },
        {
            "cell_type": "code",
            "execution_count": 29,
            "source": [
                "print(dot(A, A))\n",
                "print(gradient(dot(A, A), A))"
            ],
            "outputs": [
                {
                    "output_type": "stream",
                    "name": "stdout",
                    "text": [
                        "(((((sq(A_0)+sq(A_1))+sq(A_2))+sq(A_3))+sq(A_4))+sq(A_5))\n",
                        "\n",
                        "[[(A_0+A_0), (A_3+A_3)], \n",
                        " [(A_1+A_1), (A_4+A_4)], \n",
                        " [(A_2+A_2), (A_5+A_5)]]\n"
                    ]
                }
            ],
            "metadata": {}
        },
        {
            "cell_type": "markdown",
            "source": [
                "Note\n",
                "\n",
                "- jacobianとは異なり，gradientは常にdense vectorを返す\n",
                "\n",
                "Hessianは以下で得られる．"
            ],
            "metadata": {}
        },
        {
            "cell_type": "code",
            "execution_count": 30,
            "source": [
                "[H, g] = hessian(dot(x, x), x)\n",
                "print('H: ', H)"
            ],
            "outputs": [
                {
                    "output_type": "stream",
                    "name": "stdout",
                    "text": [
                        "H:  @1=2, \n",
                        "[[@1, 00], \n",
                        " [00, @1]]\n"
                    ]
                }
            ],
            "metadata": {}
        },
        {
            "cell_type": "markdown",
            "source": [
                "`jtimes`: Jacobian-times-vector product\n",
                "\n",
                "- performing forward mode AD\n",
                "- full Jacobianを作り，matrix-vector multiplicationをするより効率的．"
            ],
            "metadata": {}
        },
        {
            "cell_type": "code",
            "execution_count": 31,
            "source": [
                "A = DM([[1, 3], [4, 7], [2, 8]])\n",
                "x = SX.sym('x', 2)\n",
                "v = SX.sym('v', 2)\n",
                "f = mtimes(A, x)\n",
                "print(jtimes(f, x, v))"
            ],
            "outputs": [
                {
                    "output_type": "stream",
                    "name": "stdout",
                    "text": [
                        "[(v_0+(3*v_1)), ((4*v_0)+(7*v_1)), ((2*v_0)+(8*v_1))]\n"
                    ]
                }
            ],
            "metadata": {}
        },
        {
            "cell_type": "markdown",
            "source": [
                "`jtimes`は，reverse mode ADにも対応している．"
            ],
            "metadata": {}
        },
        {
            "cell_type": "code",
            "execution_count": 32,
            "source": [
                "w = SX.sym('w', 3)\n",
                "print(jtimes(f, x, w, True))"
            ],
            "outputs": [
                {
                    "output_type": "stream",
                    "name": "stdout",
                    "text": [
                        "[(((2*w_2)+(4*w_1))+w_0), (((8*w_2)+(7*w_1))+(3*w_0))]\n"
                    ]
                }
            ],
            "metadata": {}
        },
        {
            "cell_type": "markdown",
            "source": [
                "### 4. Function objects\n",
                "CasADiは，userがfunction objects (functors) を作ることをサポートしている．\n",
                "\n",
                "Function objectsは以下のsyntaxで作られる．\n",
                "\n",
                "```\n",
                "f = functionname(name, arguments, ..., [options])\n",
                "```\n",
                "\n",
                "`Function`: 入力式のリストと出力式のリストを渡すことで作成できる"
            ],
            "metadata": {}
        },
        {
            "cell_type": "code",
            "execution_count": 33,
            "source": [
                "x = SX.sym('x', 2)\n",
                "y = SX.sym('y')\n",
                "f = Function('f', [x, y], [x, sin(y)*x])\n",
                "print(f)"
            ],
            "outputs": [
                {
                    "output_type": "stream",
                    "name": "stdout",
                    "text": [
                        "f:(i0[2],i1)->(o0[2],o1[2]) SXFunction\n"
                    ]
                }
            ],
            "metadata": {}
        },
        {
            "cell_type": "markdown",
            "source": [
                "上記のコードは，関数 $$f: \\mathbb{R}^2 \\times \\mathbb{R} \\to \\mathbb{R}^2 \\times \\mathbb{R}^2, \\; \\; (x, y) \\mapsto (x, \\sin(y) x)$$ を定義している．\n",
                "\n",
                "Note\n",
                "\n",
                "- CasADiのすべての関数は，multiple matrix-valued input, multiple matrix-valued outputである．"
            ],
            "metadata": {}
        },
        {
            "cell_type": "markdown",
            "source": [
                "`MX`も同様．"
            ],
            "metadata": {}
        },
        {
            "cell_type": "code",
            "execution_count": 34,
            "source": [
                "x = MX.sym('x', 2)\n",
                "y = MX.sym('y')\n",
                "f = Function('f', [x, y], [x, sin(y)*x])\n",
                "print(f)"
            ],
            "outputs": [
                {
                    "output_type": "stream",
                    "name": "stdout",
                    "text": [
                        "f:(i0[2],i1)->(o0[2],o1[2]) MXFunction\n"
                    ]
                }
            ],
            "metadata": {}
        },
        {
            "cell_type": "markdown",
            "source": [
                "入出力に名前をつけることもできる．"
            ],
            "metadata": {}
        },
        {
            "cell_type": "code",
            "execution_count": 35,
            "source": [
                "f = Function('f', [x, y], [x, sin(y)*x], ['x', 'y'], ['r', 'q'])\n",
                "print(f)"
            ],
            "outputs": [
                {
                    "output_type": "stream",
                    "name": "stdout",
                    "text": [
                        "f:(x[2],y)->(r[2],q[2]) MXFunction\n"
                    ]
                }
            ],
            "metadata": {}
        },
        {
            "cell_type": "markdown",
            "source": [
                "入出力に名前をつけることは，以下のような理由から推奨される．\n",
                "\n",
                "- argumentsの数や順序を覚えておく必要がない\n",
                "- 存在しない入出力は未設定のままにできる\n",
                "- 可読性が上がり，ミスが減る (e.g. `f.jacobian('x', 'q')`の方が`f.jacobian(0, 1)`よりも良い)"
            ],
            "metadata": {}
        },
        {
            "cell_type": "markdown",
            "source": [
                "#### 4.1. Calling function object\n",
                "`MX`では，`Function`-derived functionsをcallすることができる．\n",
                "\n",
                "function objectをcallするためには，argumentを正しい順番で書く必要がある．"
            ],
            "metadata": {}
        },
        {
            "cell_type": "code",
            "execution_count": 36,
            "source": [
                "r0, q0 = f(1.1, 3.3)\n",
                "print('r0:', r0)\n",
                "print('q0:', q0)"
            ],
            "outputs": [
                {
                    "output_type": "stream",
                    "name": "stdout",
                    "text": [
                        "r0: [1.1, 1.1]\n",
                        "q0: [-0.17352, -0.17352]\n"
                    ]
                }
            ],
            "metadata": {}
        },
        {
            "cell_type": "markdown",
            "source": [
                "もしくは，次のようにする．"
            ],
            "metadata": {}
        },
        {
            "cell_type": "code",
            "execution_count": 37,
            "source": [
                "res = f(x=1.1, y=3.3)\n",
                "print('res:', res)"
            ],
            "outputs": [
                {
                    "output_type": "stream",
                    "name": "stdout",
                    "text": [
                        "res: {'q': DM([-0.17352, -0.17352]), 'r': DM([1.1, 1.1])}\n"
                    ]
                }
            ],
            "metadata": {}
        },
        {
            "cell_type": "markdown",
            "source": [
                "function objectを呼び出すとき，引数の次元は2つの例外を除いて関数入力の次元と一致させる必要がある\n",
                "\n",
                "- 列ベクトルの代わりに行ベクトルを渡すことができる．逆も可能．\n",
                "- 入力の次元に関係なく，スカラー引数は常に渡すことができる．これは，入力のmatrixのすべての要素をその値に設定するという意味がある．\n",
                "\n",
                "function objectへの入力の数が多い，もしくは変化している場合，Pythonのリストや辞書を受け取るcall関数を使うことでも代替できる．出力は同じtypeになる．"
            ],
            "metadata": {}
        },
        {
            "cell_type": "code",
            "execution_count": 38,
            "source": [
                "arg = [1.1, 3.3]\n",
                "res = f.call(arg)\n",
                "print('res:', res)\n",
                "arg = {'x':1.1, 'y':3.3}\n",
                "res = f.call(arg)\n",
                "print('res:', res)"
            ],
            "outputs": [
                {
                    "output_type": "stream",
                    "name": "stdout",
                    "text": [
                        "res: [DM([1.1, 1.1]), DM([-0.17352, -0.17352])]\n",
                        "res: {'q': DM([-0.17352, -0.17352]), 'r': DM([1.1, 1.1])}\n"
                    ]
                }
            ],
            "metadata": {}
        },
        {
            "cell_type": "markdown",
            "source": [
                "#### 4.2. Converting `MX` to `SX`\n",
                "`MX` graphで定義されたfunction objectのうち，built-in operationsのみを含むものは，`SX` graphのみを含むものに変換できる．\n",
                "\n",
                "```\n",
                "sx_function = mx_function.expand()\n",
                "```\n",
                "\n",
                "計算の速度は上がるが，memoryのoverheadがある．"
            ],
            "metadata": {}
        },
        {
            "cell_type": "markdown",
            "source": [
                "#### 4.3. Nonlinear root-finding problems\n",
                "以下のシステム方程式を考える．\n",
                "\n",
                "$$g_0(z, x_1, x_2, \\ldots, x_n) = 0 \\\\ g_1(z, x_1, x_2, \\ldots, x_n) = y_1 \\\\ g_2(z, x_1, x_2, \\ldots, x_n) = y_2 \\\\ \\vdots \\\\ g_m(z, x_1, x_2, \\ldots, x_n) = y_m$$\n",
                "\n",
                "陰関数定理より，最初の式の $$z$$ は，$$x_1, \\ldots, x_n$$の関数で表せる．\n",
                "\n",
                "$ g_0, \\ldots, g_m $を評価するための関数$g$に対して，CasADiを自動的に関数 $$G: \\{z_{\\mathrm{guess}}, x_1, x_2, \\ldots, x_n \\} \\to \\{z, y_1, y_2, \\ldots, y_m \\}$$ を生成するために使う．この関数は，解が一意でない場合に対応するために$z$の推定値を含む．Syntaxは以下 ($n = m = 1$とする)．"
            ],
            "metadata": {}
        },
        {
            "cell_type": "code",
            "execution_count": 42,
            "source": [
                "z = SX.sym('z')\n",
                "x = SX.sym('x')\n",
                "g0 = sin(x + z)\n",
                "g1 = cos(x + z)\n",
                "g = Function('g', [z, x], [g0, g1])\n",
                "G = rootfinder('G', 'newton', g)\n",
                "print(G)"
            ],
            "outputs": [
                {
                    "output_type": "stream",
                    "name": "stdout",
                    "text": [
                        "G:(i0,i1)->(o0,o1) Newton\n"
                    ]
                }
            ],
            "metadata": {}
        },
        {
            "cell_type": "markdown",
            "source": [
                "- Rootfinding objectsは，微分objects．導関数は任意の順序で正確に計算できる．"
            ],
            "metadata": {}
        },
        {
            "cell_type": "markdown",
            "source": [
                "#### 4.4. Initial-value problems and sensitivity analysis\n",
                "CasADiはODEやDAEの初期値問題を解くことができる．問題の形式は以下．\n",
                "\n",
                "$$\\dot{x} = f_{\\mathrm{ode}}(t, x, z, p), \\; \\; x(0) = x_0 \\\\ 0 = f_{\\mathrm{alg}}(t, x, z, p) \\\\ \\dot{q} = f_{\\mathrm{quad}}(t, x, z, p), \\; \\; q(0) = 0$$\n",
                "\n",
                "CasADiの積分器は，初期状態$x_0$, パラメータの集合$p$, algebraic variables (only for DAEs) の推測値 $z_0$ を受け取り，最終時刻の状態$x_f$, algebraic variables $z_f$, quadrature state $q_f$ を返す．"
            ],
            "metadata": {}
        },
        {
            "cell_type": "markdown",
            "source": [
                "##### 4.4.1. Creating integrators\n",
                "積分器は，CasADiの`integrator`関数を使って作られる．さまざまなintegratorのschemesとinterfacesがプラグインとして実装されている．\n",
                "\n",
                "以下のDAEを考える．\n",
                "\n",
                "$$\\dot{x} = z + p \\\\ 0 = z \\cos (z) - x$$\n",
                "\n",
                "\"idas\"プラグインを使って，以下のsyntaxで生成される．"
            ],
            "metadata": {}
        },
        {
            "cell_type": "code",
            "execution_count": 43,
            "source": [
                "x = SX.sym('x'); z = SX.sym('z'); p = SX.sym('p')\n",
                "dae = {'x': x, 'z': z, 'p': p, 'ode': z+p, 'alg': z*cos(z)-x}\n",
                "F = integrator('F', 'idas', dae)\n",
                "print(F)"
            ],
            "outputs": [
                {
                    "output_type": "stream",
                    "name": "stdout",
                    "text": [
                        "F:(x0,p,z0,rx0[0],rp[0],rz0[0])->(xf,qf[0],zf,rxf[0],rqf[0],rzf[0]) IdasInterface\n"
                    ]
                }
            ],
            "metadata": {}
        },
        {
            "cell_type": "markdown",
            "source": [
                "このDAEを，0から1まで積分する．ただし，$x(0) = 0, p = 0.1, z(0) = 0$とする．"
            ],
            "metadata": {}
        },
        {
            "cell_type": "code",
            "execution_count": 44,
            "source": [
                "r = F(x0=0, z0=0, p=0.1)\n",
                "print(r['xf'])"
            ],
            "outputs": [
                {
                    "output_type": "stream",
                    "name": "stdout",
                    "text": [
                        "0.1724\n"
                    ]
                }
            ],
            "metadata": {}
        },
        {
            "cell_type": "markdown",
            "source": [
                "##### 4.4.2. Sensitivity analysis\n",
                "- function objectsを数値的に評価して感度情報を得ることができる"
            ],
            "metadata": {}
        }
    ],
    "metadata": {
        "orig_nbformat": 4,
        "language_info": {
            "name": "python",
            "version": "3.8.11",
            "mimetype": "text/x-python",
            "codemirror_mode": {
                "name": "ipython",
                "version": 3
            },
            "pygments_lexer": "ipython3",
            "nbconvert_exporter": "python",
            "file_extension": ".py"
        },
        "kernelspec": {
            "name": "python3",
            "display_name": "Python 3.8.11 64-bit"
        },
        "interpreter": {
            "hash": "4cd7ab41f5fca4b9b44701077e38c5ffd31fe66a6cab21e0214b68d958d0e462"
        }
    },
    "nbformat": 4,
    "nbformat_minor": 2
}