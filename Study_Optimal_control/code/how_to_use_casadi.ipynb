{
    "cells": [
        {
            "cell_type": "markdown",
            "source": [
                "# CasADiの使い方\n",
                "## はじめに\n",
                "最適制御問題を数値的に解くためのツールとして，CasADiを用いる．使い方を勉強する．\n",
                "### 参考\n",
                "- [CasADi's documentation](https://web.casadi.org/docs/)\n",
                "- [CasADi's GitHub Repository](https://github.com/casadi/casadi)\n",
                "\n",
                "### Install\n",
                "```bash\n",
                "pip install casadi\n",
                "```"
            ],
            "metadata": {}
        },
        {
            "cell_type": "markdown",
            "source": [
                "## Documentについて\n",
                "以下，ドキュメントを見てコードの書き方を勉強する．\n",
                "### 1. Introduction\n",
                "- CasADiは，gradient-basedの数値最適化 (特に最適制御に重点をおいている) のためのツール．\n",
                "- ユーザに最適制御問題を入力させ，その解を返すわけではなく，最適制御問題のソルバーを少しのプログラミング作業で効率的に実装するために使用できる \"building block\" を提供するもの．"
            ],
            "metadata": {}
        },
        {
            "cell_type": "markdown",
            "source": [
                "### 2. Obtaining and installing\n",
                "- open-source tool\n",
                "- C++で書かれている．front-endにはPythonもある．"
            ],
            "metadata": {}
        },
        {
            "cell_type": "markdown",
            "source": [
                "### 3. Symbolic framework\n",
                "- CasADiのcoreは， \"self-contained symbolic framework\" であること．\n",
                "- MATLABのような \"everything-is-a-matrix\" 構文で記号式を構築できる．\n",
                "- vectors: n-by-1 matrices, scalars: 1-by-1 matrices\n",
                "\n",
                "#### 3.1. The `sx` symbols"
            ],
            "metadata": {}
        },
        {
            "cell_type": "code",
            "execution_count": 1,
            "source": [
                "###### Packages ######\n",
                "from casadi import * \n",
                "######################"
            ],
            "outputs": [],
            "metadata": {}
        },
        {
            "cell_type": "markdown",
            "source": [
                "変数`x`を定義する．"
            ],
            "metadata": {}
        },
        {
            "cell_type": "code",
            "execution_count": 5,
            "source": [
                "###### Define variable x ######\n",
                "x = SX.sym(\"x\")\n",
                "print(x)\n",
                "###############################"
            ],
            "outputs": [
                {
                    "output_type": "stream",
                    "name": "stdout",
                    "text": [
                        "x\n"
                    ]
                }
            ],
            "metadata": {}
        },
        {
            "cell_type": "markdown",
            "source": [
                "上記のコードで定義した`x`は，1-by-1 matrix (scalar) である．\"x\"は，表示名であり，識別子ではない．\n",
                "\n",
                "`SX.sym`に追加の引数を指定してvector-valued, matrix-valuedの変数を定義できる．"
            ],
            "metadata": {}
        },
        {
            "cell_type": "code",
            "execution_count": 6,
            "source": [
                "y = SX.sym('y', 5)\n",
                "z = SX.sym('Z', 4, 2)\n",
                "print(y)\n",
                "print(z)"
            ],
            "outputs": [
                {
                    "output_type": "stream",
                    "name": "stdout",
                    "text": [
                        "[y_0, y_1, y_2, y_3, y_4]\n",
                        "\n",
                        "[[Z_0, Z_4], \n",
                        " [Z_1, Z_5], \n",
                        " [Z_2, Z_6], \n",
                        " [Z_3, Z_7]]\n"
                    ]
                }
            ],
            "metadata": {}
        },
        {
            "cell_type": "markdown",
            "source": [
                "Remark\n",
                "- `SX.sym`は，`SX`インスタンスを返す (静的な) 関数である．\n",
                "- 変数が宣言されると，式を直感的な方法で形成できる．"
            ],
            "metadata": {}
        },
        {
            "cell_type": "code",
            "execution_count": 8,
            "source": [
                "f = x**2 + 10 \n",
                "f = sqrt(f)\n",
                "print(f)"
            ],
            "outputs": [
                {
                    "output_type": "stream",
                    "name": "stdout",
                    "text": [
                        "sqrt((sq(x)+10))\n"
                    ]
                }
            ],
            "metadata": {}
        },
        {
            "cell_type": "markdown",
            "source": [
                "symbolic primitivesがなくても`SX`インスタンスを定義できる．\n",
                "\n",
                "- `B1 = SX.zeros(4, 5)`: すべての要素がzerosのdense 4-by-5 empty matrix\n",
                "- `B2 = SX(4, 5)`: すべての要素がzerosのsparse 4-by-5 empty matrix\n",
                "- `B4 = SX.eye(4)`: 4-by-4の単位行列"
            ],
            "metadata": {}
        },
        {
            "cell_type": "code",
            "execution_count": 9,
            "source": [
                "B1 = SX.zeros(4, 5)\n",
                "B2 = SX(4, 5)\n",
                "B4 = SX.eye(4)\n",
                "\n",
                "print(B1)\n",
                "print(B2)\n",
                "print(B4)"
            ],
            "outputs": [
                {
                    "output_type": "stream",
                    "name": "stdout",
                    "text": [
                        "@1=0, \n",
                        "[[@1, @1, @1, @1, @1], \n",
                        " [@1, @1, @1, @1, @1], \n",
                        " [@1, @1, @1, @1, @1], \n",
                        " [@1, @1, @1, @1, @1]]\n",
                        "\n",
                        "[[00, 00, 00, 00, 00], \n",
                        " [00, 00, 00, 00, 00], \n",
                        " [00, 00, 00, 00, 00], \n",
                        " [00, 00, 00, 00, 00]]\n",
                        "@1=1, \n",
                        "[[@1, 00, 00, 00], \n",
                        " [00, @1, 00, 00], \n",
                        " [00, 00, @1, 00], \n",
                        " [00, 00, 00, @1]]\n"
                    ]
                }
            ],
            "metadata": {}
        },
        {
            "cell_type": "markdown",
            "source": [
                "Note\n",
                "\n",
                "- sparse matrixとdense matrixの違いは，structural zerosとactual zeros．\n",
                "- `00`: structural zero\n",
                "- `0`: actual zero\n",
                "\n",
                "`SX`の表現を以下にまとめる．\n",
                "\n",
                "- `SX.sym(name, n, m)`: n-by-mのsymbolic primitiveを定義する．\n",
                "- `SX.zeros(n, m)`: すべての要素がzerosのn-by-m dense matrixを定義する．\n",
                "- `SX(n, m)`: すべての要素がstructual zerosのn-by-m sparse matrixを定義する．\n",
                "- `SX.ones(n, m)`: すべての要素が1のn-by-m dense matrixを定義する．\n",
                "- `SX.eye(n)`: 対角成分が1で，その他の成分がstructural zerosのn-by-n対角行列を定義する．\n",
                "- `SX(scalar_type)`: argumentで与えられた値を持つscalar (1-by-1 matrix) を定義する．\n",
                "- `SX(matrix_type)`: NumpyやScipyのmatrixで与えられたnumerical matrixを定義する．\n",
                "- `repmat(v, n, m)`: vを縦にn回，横にm回繰り返した表現 (e.g. `repmat(SX(3), 2, 1)`: すべての要素が3の2-by-1 matrix)．\n",
                "- (Python only) `SX(list)`: list内の要素を成分とする縦ベクトル (n-by-1 matrix) を定義する (e.g. `SX([1, 2, 3, 4])`)．\n",
                "- (Python only) `SX(list of list)`: list内の要素を成分とするdense matrixを定義する (e.g. `SX([[1, 2], [3, 4]])`)．"
            ],
            "metadata": {}
        },
        {
            "cell_type": "markdown",
            "source": [
                "#### 3.2. DM\n",
                "- `SX`と似ているが，nonzero elementsが数値であり，symbolic expressioinsではないという点で`SX`と異なる．構文はほぼ同じ．\n",
                "- `DM`は主に，CasADiに行列を格納するため，また，関数の入出力として使われる．"
            ],
            "metadata": {}
        },
        {
            "cell_type": "code",
            "execution_count": 10,
            "source": [
                "C = DM(2, 3)\n",
                "print(C)\n",
                "\n",
                "C_dense = C.full()\n",
                "print(C_dense)\n",
                "from numpy import array \n",
                "C_dense = array(C)  # equivalent \n",
                "print(C_dense)\n",
                "\n",
                "C_sparse = C.sparse()\n",
                "print(C_sparse)\n",
                "from scipy.sparse import csc_matrix \n",
                "C_sparse = csc_matrix(C)    # equivalent\n",
                "print(C_sparse)"
            ],
            "outputs": [
                {
                    "output_type": "stream",
                    "name": "stdout",
                    "text": [
                        "\n",
                        "[[00, 00, 00], \n",
                        " [00, 00, 00]]\n",
                        "[[0. 0. 0.]\n",
                        " [0. 0. 0.]]\n",
                        "[[0. 0. 0.]\n",
                        " [0. 0. 0.]]\n",
                        "\n",
                        "\n"
                    ]
                }
            ],
            "metadata": {}
        },
        {
            "cell_type": "markdown",
            "source": [
                "#### 3.3. The `MX` symbolics\n",
                "以下の`SX`の演算を考える．"
            ],
            "metadata": {}
        },
        {
            "cell_type": "code",
            "execution_count": 11,
            "source": [
                "x = SX.sym('x', 2, 2)\n",
                "y = SX.sym('y')\n",
                "f = 3*x + y \n",
                "print(f)\n",
                "print(f.shape)"
            ],
            "outputs": [
                {
                    "output_type": "stream",
                    "name": "stdout",
                    "text": [
                        "@1=3, \n",
                        "[[((@1*x_0)+y), ((@1*x_2)+y)], \n",
                        " [((@1*x_1)+y), ((@1*x_3)+y)]]\n",
                        "(2, 2)\n"
                    ]
                }
            ],
            "metadata": {}
        },
        {
            "cell_type": "markdown",
            "source": [
                "上記の操作の出力は2-by-2の行列となっている．乗算と加算が要素ごとに実行され，結果行列のeach entryに対してSX型の新しい式が作成された．\n",
                "\n",
                "より一般的なmatrix expression typeの`MX`を導入する．`MX`の基本演算はスカラーの単項演算 ($$\\mathbb{R} \\to \\mathbb{R}$$) や二項演算 ($$\\mathbb{R} \\times \\mathbb{R} \\to \\mathbb{R}$$) に制限されていない．\n",
                "\n",
                "`MX`では，一般的な複数のsparse-matrix入力で複数のsparse-matrix出力の関数の操作ができる ($$\\mathbb{R}^{n_1 \\times m_1} \\times \\cdots \\times \\mathbb{R}^{n_N \\times m_N} \\to \\mathbb{R}^{p_1 \\times q_1} \\times \\cdots \\times \\mathbb{R}^{p_M \\times q_M}$$)．\n",
                "\n",
                "上記の`SX`の演算を`MX`で書く．"
            ],
            "metadata": {}
        },
        {
            "cell_type": "code",
            "execution_count": 12,
            "source": [
                "x = MX.sym('x', 2, 2)\n",
                "y = MX.sym('y')\n",
                "f = 3*x + y \n",
                "print(f)\n",
                "print(f.shape)"
            ],
            "outputs": [
                {
                    "output_type": "stream",
                    "name": "stdout",
                    "text": [
                        "((3*x)+y)\n",
                        "(2, 2)\n"
                    ]
                }
            ],
            "metadata": {}
        },
        {
            "cell_type": "markdown",
            "source": [
                "`MX`でも`SX`と同様に，要素を取得すること，セットすることができる．"
            ],
            "metadata": {}
        },
        {
            "cell_type": "code",
            "execution_count": 13,
            "source": [
                "x = MX.sym('x', 2, 2)\n",
                "print(x[0, 0])"
            ],
            "outputs": [
                {
                    "output_type": "stream",
                    "name": "stdout",
                    "text": [
                        "x[0]\n"
                    ]
                }
            ],
            "metadata": {}
        },
        {
            "cell_type": "markdown",
            "source": [
                "出力は，xの最初のstructurally non-zeroの要素に等しい式 (index 0 (最初の) matrixの位置)"
            ],
            "metadata": {}
        },
        {
            "cell_type": "code",
            "execution_count": 14,
            "source": [
                "x = MX.sym('x', 2)\n",
                "A = MX(2, 2)\n",
                "A[0,0] = x[0]\n",
                "A[1,1] = x[0] + x[1]\n",
                "print('A:', A)"
            ],
            "outputs": [
                {
                    "output_type": "stream",
                    "name": "stdout",
                    "text": [
                        "A: (project((zeros(2x2,1nz)[0] = x[0]))[1] = (x[0]+x[1]))\n"
                    ]
                }
            ],
            "metadata": {}
        },
        {
            "cell_type": "markdown",
            "source": [
                "#### 3.4. Mixing `SX` and `MX`\n",
                "- `SX`オブジェクトと`MX`オブジェクトに対する乗算操作や，同じexpression graphで2つのオブジェクトを混合することはできない．\n",
                "- `MX` graphには，`SX` expressionsで定義された関数への呼び出しを含めることができる．\n",
                "- `SX` expressionsは低レベルの操作で使用することを目的としている．\n",
                "- `MX` expressionsはNLPの制約関数などの作成に使用できる．"
            ],
            "metadata": {}
        },
        {
            "cell_type": "markdown",
            "source": [
                "#### 3.5. The `Sparsity` class\n",
                "CasADiでは，matricesをcompressed column storage (CCS) formatに格納できる．CCS formatは，sparse matricesのstandard format．線形代数の演算を可能にする．\n",
                "\n",
                "CCS formatでは，sparsity patternはdimensions (rowsとcolumnsの数) と2つのベクトルを使ってdecodeされる．\n",
                "\n",
                "CasADiのSparsity patternは，Sparsity classのインスタンスとして格納される．"
            ],
            "metadata": {}
        }
    ],
    "metadata": {
        "orig_nbformat": 4,
        "language_info": {
            "name": "python",
            "version": "3.8.11",
            "mimetype": "text/x-python",
            "codemirror_mode": {
                "name": "ipython",
                "version": 3
            },
            "pygments_lexer": "ipython3",
            "nbconvert_exporter": "python",
            "file_extension": ".py"
        },
        "kernelspec": {
            "name": "python3",
            "display_name": "Python 3.8.11 64-bit"
        },
        "interpreter": {
            "hash": "4cd7ab41f5fca4b9b44701077e38c5ffd31fe66a6cab21e0214b68d958d0e462"
        }
    },
    "nbformat": 4,
    "nbformat_minor": 2
}